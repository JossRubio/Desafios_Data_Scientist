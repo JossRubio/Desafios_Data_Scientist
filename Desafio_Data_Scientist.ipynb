{
  "nbformat": 4,
  "nbformat_minor": 0,
  "metadata": {
    "colab": {
      "provenance": [],
      "toc_visible": true,
      "authorship_tag": "ABX9TyNBwa2IOtQTQbmwvn0oF66+",
      "include_colab_link": true
    },
    "kernelspec": {
      "name": "python3",
      "display_name": "Python 3"
    },
    "language_info": {
      "name": "python"
    }
  },
  "cells": [
    {
      "cell_type": "markdown",
      "metadata": {
        "id": "view-in-github",
        "colab_type": "text"
      },
      "source": [
        "<a href=\"https://colab.research.google.com/github/JossRubio/Desafios_Data_Scientist/blob/main/Desafio_Data_Scientist.ipynb\" target=\"_parent\"><img src=\"https://colab.research.google.com/assets/colab-badge.svg\" alt=\"Open In Colab\"/></a>"
      ]
    },
    {
      "cell_type": "markdown",
      "source": [
        "#Desafío Data Scientist Caja Los Andes\n",
        "\n",
        "**Nombre: José Manuel Rubio Cienfuegos**\n",
        "\n",
        "**RUT: 21.272.943-4**"
      ],
      "metadata": {
        "id": "DvWlCVqhazDa"
      }
    },
    {
      "cell_type": "markdown",
      "source": [
        "##Librerías"
      ],
      "metadata": {
        "id": "VKs9_9eyglxp"
      }
    },
    {
      "cell_type": "code",
      "source": [
        "import numpy as np\n",
        "import pandas as pd\n",
        "import matplotlib.pyplot as plt\n",
        "import itertools\n",
        "\n",
        "from sklearn.model_selection import train_test_split, GridSearchCV, StratifiedKFold, cross_val_score\n",
        "from sklearn.preprocessing import OneHotEncoder, StandardScaler, MinMaxScaler\n",
        "from sklearn.compose import make_column_transformer\n",
        "\n",
        "from sklearn.svm import SVC\n",
        "from sklearn.ensemble import RandomForestClassifier\n",
        "from sklearn.linear_model import LogisticRegression\n",
        "\n",
        "from sklearn.metrics import classification_report, confusion_matrix, roc_auc_score"
      ],
      "metadata": {
        "id": "ys3G7JflbARz"
      },
      "execution_count": 43,
      "outputs": []
    },
    {
      "cell_type": "markdown",
      "source": [
        "##Carga de Datos"
      ],
      "metadata": {
        "id": "ETiwUHargneT"
      }
    },
    {
      "cell_type": "code",
      "source": [
        "df = pd.read_csv('dataset_Caso_1.csv')"
      ],
      "metadata": {
        "id": "a5WHOYZFbrOR"
      },
      "execution_count": 44,
      "outputs": []
    },
    {
      "cell_type": "markdown",
      "source": [
        "##Análisis exploratorio de datos\n",
        "\n",
        "Antes de realizar cualquier tipo de procesamiento es necesario conocer los datos que conforman el dataframe, que tipos de datos, las clases y si existe un desbalance de estas"
      ],
      "metadata": {
        "id": "oVW3O79VgpaQ"
      }
    },
    {
      "cell_type": "code",
      "source": [
        "df.head()"
      ],
      "metadata": {
        "colab": {
          "base_uri": "https://localhost:8080/",
          "height": 206
        },
        "id": "yxo4n2zE0tgX",
        "outputId": "4c09cd02-65d4-44d5-deab-d3d89319fd3f"
      },
      "execution_count": 45,
      "outputs": [
        {
          "output_type": "execute_result",
          "data": {
            "text/plain": [
              "         x1        x2   x3     x4  x5  x6  x7   x8  target\n",
              "0   50.1341 -326.0000  SAT  MZBER   0   0   6 -6.5       0\n",
              "1   50.1341 -326.0000  SAT  MZBER   0   0   6 -4.5       0\n",
              "2  124.3276 -275.1935  LCV  MZBER   0   0   3 -2.5       0\n",
              "3   50.1341 -326.0000  SAT  MZBER   0   0   3 -4.5       0\n",
              "4   85.3905 -298.8632  XJB  MZBER   0   0   5 -4.5       0"
            ],
            "text/html": [
              "\n",
              "  <div id=\"df-3468424f-0df3-4fa5-8554-8aac753c191a\">\n",
              "    <div class=\"colab-df-container\">\n",
              "      <div>\n",
              "<style scoped>\n",
              "    .dataframe tbody tr th:only-of-type {\n",
              "        vertical-align: middle;\n",
              "    }\n",
              "\n",
              "    .dataframe tbody tr th {\n",
              "        vertical-align: top;\n",
              "    }\n",
              "\n",
              "    .dataframe thead th {\n",
              "        text-align: right;\n",
              "    }\n",
              "</style>\n",
              "<table border=\"1\" class=\"dataframe\">\n",
              "  <thead>\n",
              "    <tr style=\"text-align: right;\">\n",
              "      <th></th>\n",
              "      <th>x1</th>\n",
              "      <th>x2</th>\n",
              "      <th>x3</th>\n",
              "      <th>x4</th>\n",
              "      <th>x5</th>\n",
              "      <th>x6</th>\n",
              "      <th>x7</th>\n",
              "      <th>x8</th>\n",
              "      <th>target</th>\n",
              "    </tr>\n",
              "  </thead>\n",
              "  <tbody>\n",
              "    <tr>\n",
              "      <th>0</th>\n",
              "      <td>50.1341</td>\n",
              "      <td>-326.0000</td>\n",
              "      <td>SAT</td>\n",
              "      <td>MZBER</td>\n",
              "      <td>0</td>\n",
              "      <td>0</td>\n",
              "      <td>6</td>\n",
              "      <td>-6.5</td>\n",
              "      <td>0</td>\n",
              "    </tr>\n",
              "    <tr>\n",
              "      <th>1</th>\n",
              "      <td>50.1341</td>\n",
              "      <td>-326.0000</td>\n",
              "      <td>SAT</td>\n",
              "      <td>MZBER</td>\n",
              "      <td>0</td>\n",
              "      <td>0</td>\n",
              "      <td>6</td>\n",
              "      <td>-4.5</td>\n",
              "      <td>0</td>\n",
              "    </tr>\n",
              "    <tr>\n",
              "      <th>2</th>\n",
              "      <td>124.3276</td>\n",
              "      <td>-275.1935</td>\n",
              "      <td>LCV</td>\n",
              "      <td>MZBER</td>\n",
              "      <td>0</td>\n",
              "      <td>0</td>\n",
              "      <td>3</td>\n",
              "      <td>-2.5</td>\n",
              "      <td>0</td>\n",
              "    </tr>\n",
              "    <tr>\n",
              "      <th>3</th>\n",
              "      <td>50.1341</td>\n",
              "      <td>-326.0000</td>\n",
              "      <td>SAT</td>\n",
              "      <td>MZBER</td>\n",
              "      <td>0</td>\n",
              "      <td>0</td>\n",
              "      <td>3</td>\n",
              "      <td>-4.5</td>\n",
              "      <td>0</td>\n",
              "    </tr>\n",
              "    <tr>\n",
              "      <th>4</th>\n",
              "      <td>85.3905</td>\n",
              "      <td>-298.8632</td>\n",
              "      <td>XJB</td>\n",
              "      <td>MZBER</td>\n",
              "      <td>0</td>\n",
              "      <td>0</td>\n",
              "      <td>5</td>\n",
              "      <td>-4.5</td>\n",
              "      <td>0</td>\n",
              "    </tr>\n",
              "  </tbody>\n",
              "</table>\n",
              "</div>\n",
              "      <button class=\"colab-df-convert\" onclick=\"convertToInteractive('df-3468424f-0df3-4fa5-8554-8aac753c191a')\"\n",
              "              title=\"Convert this dataframe to an interactive table.\"\n",
              "              style=\"display:none;\">\n",
              "        \n",
              "  <svg xmlns=\"http://www.w3.org/2000/svg\" height=\"24px\"viewBox=\"0 0 24 24\"\n",
              "       width=\"24px\">\n",
              "    <path d=\"M0 0h24v24H0V0z\" fill=\"none\"/>\n",
              "    <path d=\"M18.56 5.44l.94 2.06.94-2.06 2.06-.94-2.06-.94-.94-2.06-.94 2.06-2.06.94zm-11 1L8.5 8.5l.94-2.06 2.06-.94-2.06-.94L8.5 2.5l-.94 2.06-2.06.94zm10 10l.94 2.06.94-2.06 2.06-.94-2.06-.94-.94-2.06-.94 2.06-2.06.94z\"/><path d=\"M17.41 7.96l-1.37-1.37c-.4-.4-.92-.59-1.43-.59-.52 0-1.04.2-1.43.59L10.3 9.45l-7.72 7.72c-.78.78-.78 2.05 0 2.83L4 21.41c.39.39.9.59 1.41.59.51 0 1.02-.2 1.41-.59l7.78-7.78 2.81-2.81c.8-.78.8-2.07 0-2.86zM5.41 20L4 18.59l7.72-7.72 1.47 1.35L5.41 20z\"/>\n",
              "  </svg>\n",
              "      </button>\n",
              "      \n",
              "  <style>\n",
              "    .colab-df-container {\n",
              "      display:flex;\n",
              "      flex-wrap:wrap;\n",
              "      gap: 12px;\n",
              "    }\n",
              "\n",
              "    .colab-df-convert {\n",
              "      background-color: #E8F0FE;\n",
              "      border: none;\n",
              "      border-radius: 50%;\n",
              "      cursor: pointer;\n",
              "      display: none;\n",
              "      fill: #1967D2;\n",
              "      height: 32px;\n",
              "      padding: 0 0 0 0;\n",
              "      width: 32px;\n",
              "    }\n",
              "\n",
              "    .colab-df-convert:hover {\n",
              "      background-color: #E2EBFA;\n",
              "      box-shadow: 0px 1px 2px rgba(60, 64, 67, 0.3), 0px 1px 3px 1px rgba(60, 64, 67, 0.15);\n",
              "      fill: #174EA6;\n",
              "    }\n",
              "\n",
              "    [theme=dark] .colab-df-convert {\n",
              "      background-color: #3B4455;\n",
              "      fill: #D2E3FC;\n",
              "    }\n",
              "\n",
              "    [theme=dark] .colab-df-convert:hover {\n",
              "      background-color: #434B5C;\n",
              "      box-shadow: 0px 1px 3px 1px rgba(0, 0, 0, 0.15);\n",
              "      filter: drop-shadow(0px 1px 2px rgba(0, 0, 0, 0.3));\n",
              "      fill: #FFFFFF;\n",
              "    }\n",
              "  </style>\n",
              "\n",
              "      <script>\n",
              "        const buttonEl =\n",
              "          document.querySelector('#df-3468424f-0df3-4fa5-8554-8aac753c191a button.colab-df-convert');\n",
              "        buttonEl.style.display =\n",
              "          google.colab.kernel.accessAllowed ? 'block' : 'none';\n",
              "\n",
              "        async function convertToInteractive(key) {\n",
              "          const element = document.querySelector('#df-3468424f-0df3-4fa5-8554-8aac753c191a');\n",
              "          const dataTable =\n",
              "            await google.colab.kernel.invokeFunction('convertToInteractive',\n",
              "                                                     [key], {});\n",
              "          if (!dataTable) return;\n",
              "\n",
              "          const docLinkHtml = 'Like what you see? Visit the ' +\n",
              "            '<a target=\"_blank\" href=https://colab.research.google.com/notebooks/data_table.ipynb>data table notebook</a>'\n",
              "            + ' to learn more about interactive tables.';\n",
              "          element.innerHTML = '';\n",
              "          dataTable['output_type'] = 'display_data';\n",
              "          await google.colab.output.renderOutput(dataTable, element);\n",
              "          const docLink = document.createElement('div');\n",
              "          docLink.innerHTML = docLinkHtml;\n",
              "          element.appendChild(docLink);\n",
              "        }\n",
              "      </script>\n",
              "    </div>\n",
              "  </div>\n",
              "  "
            ]
          },
          "metadata": {},
          "execution_count": 45
        }
      ]
    },
    {
      "cell_type": "markdown",
      "source": [
        "Se aprecia que la base de datos contiene floats y variables categoricas "
      ],
      "metadata": {
        "id": "1Qfem03Bw3sy"
      }
    },
    {
      "cell_type": "code",
      "source": [
        "print('Dimensiones del dataframe original', df.shape)\n",
        "df.dropna(inplace=True)\n",
        "print('Dimensiones despues de remover muestras con nans', df.shape)"
      ],
      "metadata": {
        "colab": {
          "base_uri": "https://localhost:8080/"
        },
        "id": "lc8sfvXl0c5y",
        "outputId": "5e01d15b-c6c4-4f24-dc65-957b327fe976"
      },
      "execution_count": 46,
      "outputs": [
        {
          "output_type": "stream",
          "name": "stdout",
          "text": [
            "Dimensiones del dataframe original (2000, 9)\n",
            "Dimensiones despues de remover muestras con nans (2000, 9)\n"
          ]
        }
      ]
    },
    {
      "cell_type": "markdown",
      "source": [
        "Cuenta con 2000 muestras y 9 columnas, siendo la última la etiqueta de la muestra. Además de que no se cuenta con muestras nans."
      ],
      "metadata": {
        "id": "0133uRj-0e8P"
      }
    },
    {
      "cell_type": "code",
      "source": [
        "df.target.value_counts()"
      ],
      "metadata": {
        "colab": {
          "base_uri": "https://localhost:8080/"
        },
        "id": "HmjG8H9_b3iR",
        "outputId": "657bc6a8-d731-4301-cc32-c165d8f24fc9"
      },
      "execution_count": 47,
      "outputs": [
        {
          "output_type": "execute_result",
          "data": {
            "text/plain": [
              "0    1978\n",
              "1      22\n",
              "Name: target, dtype: int64"
            ]
          },
          "metadata": {},
          "execution_count": 47
        }
      ]
    },
    {
      "cell_type": "markdown",
      "source": [
        "Las clases estan muy desbalanceadas"
      ],
      "metadata": {
        "id": "OLeux2Wlc7Rz"
      }
    },
    {
      "cell_type": "code",
      "source": [
        "df.x3.value_counts()"
      ],
      "metadata": {
        "colab": {
          "base_uri": "https://localhost:8080/"
        },
        "id": "QZEf0SNkdDn8",
        "outputId": "e455dcc8-acb1-413a-95b0-904bc5d63f5c"
      },
      "execution_count": 48,
      "outputs": [
        {
          "output_type": "execute_result",
          "data": {
            "text/plain": [
              "LCV    926\n",
              "SAT    715\n",
              "XJB    280\n",
              "QKP     79\n",
              "Name: x3, dtype: int64"
            ]
          },
          "metadata": {},
          "execution_count": 48
        }
      ]
    },
    {
      "cell_type": "markdown",
      "source": [
        "Al igual que otras características del dataset"
      ],
      "metadata": {
        "id": "MvA5NG78gKTN"
      }
    },
    {
      "cell_type": "code",
      "source": [
        "df.x4.value_counts()"
      ],
      "metadata": {
        "colab": {
          "base_uri": "https://localhost:8080/"
        },
        "id": "RwGvZv2Mc93s",
        "outputId": "b33a039c-4e72-4ee4-f85a-d0ca29b48891"
      },
      "execution_count": 49,
      "outputs": [
        {
          "output_type": "execute_result",
          "data": {
            "text/plain": [
              "MZBER    1918\n",
              "YEQA       41\n",
              "PQKE       36\n",
              "ZUQF        5\n",
              "Name: x4, dtype: int64"
            ]
          },
          "metadata": {},
          "execution_count": 49
        }
      ]
    },
    {
      "cell_type": "markdown",
      "source": [
        "##Preprocesamiento de datos\n",
        "\n",
        "Dado que la base de datos tiene diversos tipos de datos, valores elevados en algunas columnas y hay un desbalance de clases, se debe realizar un preprocesamiento de esta información antes de llevarla al modelo."
      ],
      "metadata": {
        "id": "URO_veeQgN3I"
      }
    },
    {
      "cell_type": "markdown",
      "source": [
        "###One Hot Encoding\n",
        "\n",
        "Dado que se tienen columnas con variables categoricas, en primer lugar esta información se debe transformar para que pueda ser procesada dentro de los modelos. Para ello se utiliza One Hot Encoding el cual convierte las variables categóricas a un arreglo binario"
      ],
      "metadata": {
        "id": "6FPKb958xyuA"
      }
    },
    {
      "cell_type": "code",
      "source": [
        "# Inicializando el objeto conversor con la codificación One Hot para la conversión de las variables categoricas.\n",
        "transformer = make_column_transformer((OneHotEncoder(), ['x3','x4']), remainder='passthrough')\n",
        "\n",
        "# Entrenado el objeto con los datos del dataframe\n",
        "transf = transformer.fit_transform(df)\n",
        "\n",
        "# Aplicando la codificación para realizar la conversión de las variables categoricas al dataframe original\n",
        "df_transf = pd.DataFrame(transf, columns=transformer.get_feature_names_out())"
      ],
      "metadata": {
        "id": "MwVq3j5171kq"
      },
      "execution_count": 50,
      "outputs": []
    },
    {
      "cell_type": "markdown",
      "source": [
        "Con esto el dataframe incorpora la variable categórica en forma de un arreglo binario, aunque esto provoque el aumento de la cantidad de columnas del dataframe."
      ],
      "metadata": {
        "id": "IFX_AyxFxlvp"
      }
    },
    {
      "cell_type": "code",
      "source": [
        "df_transf.head()"
      ],
      "metadata": {
        "colab": {
          "base_uri": "https://localhost:8080/",
          "height": 270
        },
        "id": "F9zIWz3VIgUX",
        "outputId": "4eeaf499-dd97-4181-e9aa-6dd342cab5f8"
      },
      "execution_count": 51,
      "outputs": [
        {
          "output_type": "execute_result",
          "data": {
            "text/plain": [
              "   onehotencoder__x3_LCV  onehotencoder__x3_QKP  onehotencoder__x3_SAT  \\\n",
              "0                    0.0                    0.0                    1.0   \n",
              "1                    0.0                    0.0                    1.0   \n",
              "2                    1.0                    0.0                    0.0   \n",
              "3                    0.0                    0.0                    1.0   \n",
              "4                    0.0                    0.0                    0.0   \n",
              "\n",
              "   onehotencoder__x3_XJB  onehotencoder__x4_MZBER  onehotencoder__x4_PQKE  \\\n",
              "0                    0.0                      1.0                     0.0   \n",
              "1                    0.0                      1.0                     0.0   \n",
              "2                    0.0                      1.0                     0.0   \n",
              "3                    0.0                      1.0                     0.0   \n",
              "4                    1.0                      1.0                     0.0   \n",
              "\n",
              "   onehotencoder__x4_YEQA  onehotencoder__x4_ZUQF  remainder__x1  \\\n",
              "0                     0.0                     0.0        50.1341   \n",
              "1                     0.0                     0.0        50.1341   \n",
              "2                     0.0                     0.0       124.3276   \n",
              "3                     0.0                     0.0        50.1341   \n",
              "4                     0.0                     0.0        85.3905   \n",
              "\n",
              "   remainder__x2  remainder__x5  remainder__x6  remainder__x7  remainder__x8  \\\n",
              "0      -326.0000            0.0            0.0            6.0           -6.5   \n",
              "1      -326.0000            0.0            0.0            6.0           -4.5   \n",
              "2      -275.1935            0.0            0.0            3.0           -2.5   \n",
              "3      -326.0000            0.0            0.0            3.0           -4.5   \n",
              "4      -298.8632            0.0            0.0            5.0           -4.5   \n",
              "\n",
              "   remainder__target  \n",
              "0                0.0  \n",
              "1                0.0  \n",
              "2                0.0  \n",
              "3                0.0  \n",
              "4                0.0  "
            ],
            "text/html": [
              "\n",
              "  <div id=\"df-97ff1624-5af1-4c02-84dd-a04f50ff90b7\">\n",
              "    <div class=\"colab-df-container\">\n",
              "      <div>\n",
              "<style scoped>\n",
              "    .dataframe tbody tr th:only-of-type {\n",
              "        vertical-align: middle;\n",
              "    }\n",
              "\n",
              "    .dataframe tbody tr th {\n",
              "        vertical-align: top;\n",
              "    }\n",
              "\n",
              "    .dataframe thead th {\n",
              "        text-align: right;\n",
              "    }\n",
              "</style>\n",
              "<table border=\"1\" class=\"dataframe\">\n",
              "  <thead>\n",
              "    <tr style=\"text-align: right;\">\n",
              "      <th></th>\n",
              "      <th>onehotencoder__x3_LCV</th>\n",
              "      <th>onehotencoder__x3_QKP</th>\n",
              "      <th>onehotencoder__x3_SAT</th>\n",
              "      <th>onehotencoder__x3_XJB</th>\n",
              "      <th>onehotencoder__x4_MZBER</th>\n",
              "      <th>onehotencoder__x4_PQKE</th>\n",
              "      <th>onehotencoder__x4_YEQA</th>\n",
              "      <th>onehotencoder__x4_ZUQF</th>\n",
              "      <th>remainder__x1</th>\n",
              "      <th>remainder__x2</th>\n",
              "      <th>remainder__x5</th>\n",
              "      <th>remainder__x6</th>\n",
              "      <th>remainder__x7</th>\n",
              "      <th>remainder__x8</th>\n",
              "      <th>remainder__target</th>\n",
              "    </tr>\n",
              "  </thead>\n",
              "  <tbody>\n",
              "    <tr>\n",
              "      <th>0</th>\n",
              "      <td>0.0</td>\n",
              "      <td>0.0</td>\n",
              "      <td>1.0</td>\n",
              "      <td>0.0</td>\n",
              "      <td>1.0</td>\n",
              "      <td>0.0</td>\n",
              "      <td>0.0</td>\n",
              "      <td>0.0</td>\n",
              "      <td>50.1341</td>\n",
              "      <td>-326.0000</td>\n",
              "      <td>0.0</td>\n",
              "      <td>0.0</td>\n",
              "      <td>6.0</td>\n",
              "      <td>-6.5</td>\n",
              "      <td>0.0</td>\n",
              "    </tr>\n",
              "    <tr>\n",
              "      <th>1</th>\n",
              "      <td>0.0</td>\n",
              "      <td>0.0</td>\n",
              "      <td>1.0</td>\n",
              "      <td>0.0</td>\n",
              "      <td>1.0</td>\n",
              "      <td>0.0</td>\n",
              "      <td>0.0</td>\n",
              "      <td>0.0</td>\n",
              "      <td>50.1341</td>\n",
              "      <td>-326.0000</td>\n",
              "      <td>0.0</td>\n",
              "      <td>0.0</td>\n",
              "      <td>6.0</td>\n",
              "      <td>-4.5</td>\n",
              "      <td>0.0</td>\n",
              "    </tr>\n",
              "    <tr>\n",
              "      <th>2</th>\n",
              "      <td>1.0</td>\n",
              "      <td>0.0</td>\n",
              "      <td>0.0</td>\n",
              "      <td>0.0</td>\n",
              "      <td>1.0</td>\n",
              "      <td>0.0</td>\n",
              "      <td>0.0</td>\n",
              "      <td>0.0</td>\n",
              "      <td>124.3276</td>\n",
              "      <td>-275.1935</td>\n",
              "      <td>0.0</td>\n",
              "      <td>0.0</td>\n",
              "      <td>3.0</td>\n",
              "      <td>-2.5</td>\n",
              "      <td>0.0</td>\n",
              "    </tr>\n",
              "    <tr>\n",
              "      <th>3</th>\n",
              "      <td>0.0</td>\n",
              "      <td>0.0</td>\n",
              "      <td>1.0</td>\n",
              "      <td>0.0</td>\n",
              "      <td>1.0</td>\n",
              "      <td>0.0</td>\n",
              "      <td>0.0</td>\n",
              "      <td>0.0</td>\n",
              "      <td>50.1341</td>\n",
              "      <td>-326.0000</td>\n",
              "      <td>0.0</td>\n",
              "      <td>0.0</td>\n",
              "      <td>3.0</td>\n",
              "      <td>-4.5</td>\n",
              "      <td>0.0</td>\n",
              "    </tr>\n",
              "    <tr>\n",
              "      <th>4</th>\n",
              "      <td>0.0</td>\n",
              "      <td>0.0</td>\n",
              "      <td>0.0</td>\n",
              "      <td>1.0</td>\n",
              "      <td>1.0</td>\n",
              "      <td>0.0</td>\n",
              "      <td>0.0</td>\n",
              "      <td>0.0</td>\n",
              "      <td>85.3905</td>\n",
              "      <td>-298.8632</td>\n",
              "      <td>0.0</td>\n",
              "      <td>0.0</td>\n",
              "      <td>5.0</td>\n",
              "      <td>-4.5</td>\n",
              "      <td>0.0</td>\n",
              "    </tr>\n",
              "  </tbody>\n",
              "</table>\n",
              "</div>\n",
              "      <button class=\"colab-df-convert\" onclick=\"convertToInteractive('df-97ff1624-5af1-4c02-84dd-a04f50ff90b7')\"\n",
              "              title=\"Convert this dataframe to an interactive table.\"\n",
              "              style=\"display:none;\">\n",
              "        \n",
              "  <svg xmlns=\"http://www.w3.org/2000/svg\" height=\"24px\"viewBox=\"0 0 24 24\"\n",
              "       width=\"24px\">\n",
              "    <path d=\"M0 0h24v24H0V0z\" fill=\"none\"/>\n",
              "    <path d=\"M18.56 5.44l.94 2.06.94-2.06 2.06-.94-2.06-.94-.94-2.06-.94 2.06-2.06.94zm-11 1L8.5 8.5l.94-2.06 2.06-.94-2.06-.94L8.5 2.5l-.94 2.06-2.06.94zm10 10l.94 2.06.94-2.06 2.06-.94-2.06-.94-.94-2.06-.94 2.06-2.06.94z\"/><path d=\"M17.41 7.96l-1.37-1.37c-.4-.4-.92-.59-1.43-.59-.52 0-1.04.2-1.43.59L10.3 9.45l-7.72 7.72c-.78.78-.78 2.05 0 2.83L4 21.41c.39.39.9.59 1.41.59.51 0 1.02-.2 1.41-.59l7.78-7.78 2.81-2.81c.8-.78.8-2.07 0-2.86zM5.41 20L4 18.59l7.72-7.72 1.47 1.35L5.41 20z\"/>\n",
              "  </svg>\n",
              "      </button>\n",
              "      \n",
              "  <style>\n",
              "    .colab-df-container {\n",
              "      display:flex;\n",
              "      flex-wrap:wrap;\n",
              "      gap: 12px;\n",
              "    }\n",
              "\n",
              "    .colab-df-convert {\n",
              "      background-color: #E8F0FE;\n",
              "      border: none;\n",
              "      border-radius: 50%;\n",
              "      cursor: pointer;\n",
              "      display: none;\n",
              "      fill: #1967D2;\n",
              "      height: 32px;\n",
              "      padding: 0 0 0 0;\n",
              "      width: 32px;\n",
              "    }\n",
              "\n",
              "    .colab-df-convert:hover {\n",
              "      background-color: #E2EBFA;\n",
              "      box-shadow: 0px 1px 2px rgba(60, 64, 67, 0.3), 0px 1px 3px 1px rgba(60, 64, 67, 0.15);\n",
              "      fill: #174EA6;\n",
              "    }\n",
              "\n",
              "    [theme=dark] .colab-df-convert {\n",
              "      background-color: #3B4455;\n",
              "      fill: #D2E3FC;\n",
              "    }\n",
              "\n",
              "    [theme=dark] .colab-df-convert:hover {\n",
              "      background-color: #434B5C;\n",
              "      box-shadow: 0px 1px 3px 1px rgba(0, 0, 0, 0.15);\n",
              "      filter: drop-shadow(0px 1px 2px rgba(0, 0, 0, 0.3));\n",
              "      fill: #FFFFFF;\n",
              "    }\n",
              "  </style>\n",
              "\n",
              "      <script>\n",
              "        const buttonEl =\n",
              "          document.querySelector('#df-97ff1624-5af1-4c02-84dd-a04f50ff90b7 button.colab-df-convert');\n",
              "        buttonEl.style.display =\n",
              "          google.colab.kernel.accessAllowed ? 'block' : 'none';\n",
              "\n",
              "        async function convertToInteractive(key) {\n",
              "          const element = document.querySelector('#df-97ff1624-5af1-4c02-84dd-a04f50ff90b7');\n",
              "          const dataTable =\n",
              "            await google.colab.kernel.invokeFunction('convertToInteractive',\n",
              "                                                     [key], {});\n",
              "          if (!dataTable) return;\n",
              "\n",
              "          const docLinkHtml = 'Like what you see? Visit the ' +\n",
              "            '<a target=\"_blank\" href=https://colab.research.google.com/notebooks/data_table.ipynb>data table notebook</a>'\n",
              "            + ' to learn more about interactive tables.';\n",
              "          element.innerHTML = '';\n",
              "          dataTable['output_type'] = 'display_data';\n",
              "          await google.colab.output.renderOutput(dataTable, element);\n",
              "          const docLink = document.createElement('div');\n",
              "          docLink.innerHTML = docLinkHtml;\n",
              "          element.appendChild(docLink);\n",
              "        }\n",
              "      </script>\n",
              "    </div>\n",
              "  </div>\n",
              "  "
            ]
          },
          "metadata": {},
          "execution_count": 51
        }
      ]
    },
    {
      "cell_type": "markdown",
      "source": [
        "###Normalización de datos\n",
        "\n",
        "Otro punto importante es la normalización de los datos, debido a que se tiene valores altos en algunas columnas, con esto el sistema aligera su entrenamiento. Para ello se utilizará el objeto StandarScaler de *sklearn*"
      ],
      "metadata": {
        "id": "_7Kf9y9Cyoqj"
      }
    },
    {
      "cell_type": "code",
      "source": [
        "df_X = df_transf.drop(['remainder__target'], axis=1)          # Eliminando la columna con las clases para realizar la normalización\n",
        "\n",
        "scaler = StandardScaler()                                     # Llamando el objeto StandarScaler\n",
        "\n",
        "scaler.fit(df_X)                                              # Entrenando el objeto con los features del dataframe\n",
        "\n",
        "X_scaled = scaler.transform(df_X)                             # Normalizando los valores del conjunto de características"
      ],
      "metadata": {
        "id": "2iea8UBbhNxk"
      },
      "execution_count": 52,
      "outputs": []
    },
    {
      "cell_type": "markdown",
      "source": [
        "### Filtración de características\n",
        "\n",
        "Dado que se aplicó un One Hot Encoding para añadir las variables categóricas, la cantidad de características aumentó. "
      ],
      "metadata": {
        "id": "oL8R4awm0Kg1"
      }
    },
    {
      "cell_type": "code",
      "source": [
        "df_X.columns"
      ],
      "metadata": {
        "colab": {
          "base_uri": "https://localhost:8080/"
        },
        "id": "qfY2PdmW1bim",
        "outputId": "43dfac52-1780-40d1-d93d-54a51cf4d305"
      },
      "execution_count": 53,
      "outputs": [
        {
          "output_type": "execute_result",
          "data": {
            "text/plain": [
              "Index(['onehotencoder__x3_LCV', 'onehotencoder__x3_QKP',\n",
              "       'onehotencoder__x3_SAT', 'onehotencoder__x3_XJB',\n",
              "       'onehotencoder__x4_MZBER', 'onehotencoder__x4_PQKE',\n",
              "       'onehotencoder__x4_YEQA', 'onehotencoder__x4_ZUQF', 'remainder__x1',\n",
              "       'remainder__x2', 'remainder__x5', 'remainder__x6', 'remainder__x7',\n",
              "       'remainder__x8'],\n",
              "      dtype='object')"
            ]
          },
          "metadata": {},
          "execution_count": 53
        }
      ]
    },
    {
      "cell_type": "markdown",
      "source": [
        "Entonces, para reducir la dimenisonalidad se realizad un filtrado de estas características donde solo se tomarán las más importantes. Esto se hará a traves de una matriz de correlación, para obtener las características más correlacionadas con respecto a la clase."
      ],
      "metadata": {
        "id": "615Rf2Zx2egw"
      }
    },
    {
      "cell_type": "code",
      "source": [
        "columns_names = df_X.columns.tolist()                         # Nombre de columnas para el Dataframe con los datos normalizados\n",
        "df_process = pd.DataFrame(X_scaled, columns=columns_names)    # Dataframe con los valores de X normalizados\n",
        "\n",
        "df_process['target'] = df_transf.remainder__target            # Incorporando las clases al dataframe\n",
        "\n",
        "target_correlation = abs(df_process.corr().target.iloc[:-1])  # Correlación positiva de las variables con respecto al target\n",
        "order_features_correlation = target_correlation.sort_values(ascending=False).index  # Características ordenadas por correlación de forma descendente"
      ],
      "metadata": {
        "id": "GlLQ3c-cA-Xb"
      },
      "execution_count": 54,
      "outputs": []
    },
    {
      "cell_type": "markdown",
      "source": [
        "Con esto se obtiene un listado de importancia de características según la clase"
      ],
      "metadata": {
        "id": "UYNbVGBp2sfo"
      }
    },
    {
      "cell_type": "code",
      "source": [
        "order_features_correlation.tolist()"
      ],
      "metadata": {
        "colab": {
          "base_uri": "https://localhost:8080/"
        },
        "id": "nr5tYRZl220Z",
        "outputId": "142953a8-fbe0-4b18-a14f-7fb0491b1a84"
      },
      "execution_count": 66,
      "outputs": [
        {
          "output_type": "execute_result",
          "data": {
            "text/plain": [
              "['remainder__x5',\n",
              " 'remainder__x6',\n",
              " 'onehotencoder__x3_QKP',\n",
              " 'onehotencoder__x4_YEQA',\n",
              " 'onehotencoder__x4_MZBER',\n",
              " 'onehotencoder__x3_SAT',\n",
              " 'remainder__x1',\n",
              " 'remainder__x8',\n",
              " 'onehotencoder__x4_PQKE',\n",
              " 'remainder__x2',\n",
              " 'onehotencoder__x3_XJB',\n",
              " 'remainder__x7',\n",
              " 'onehotencoder__x4_ZUQF',\n",
              " 'onehotencoder__x3_LCV']"
            ]
          },
          "metadata": {},
          "execution_count": 66
        }
      ]
    },
    {
      "cell_type": "markdown",
      "source": [
        "Entonces con esta información se realizar el filtrado de características, con lo que se construyen los datasets de características y de clases que se llevará al modelo."
      ],
      "metadata": {
        "id": "cH6J8VV53FZb"
      }
    },
    {
      "cell_type": "code",
      "source": [
        "# Filtración de colummas para la reducción de la dimensionalidad.\n",
        "\n",
        "features = 10                                                     # Cantidad de características, máximo 14\n",
        "\n",
        "df_X = df_process[order_features_correlation[:features].tolist()] # Filtrando las columnas para obtener las características a utilizar.\n",
        "df_y = df_process.target                                          # Dataframe con las clases de las muestras."
      ],
      "metadata": {
        "id": "eQluu7w1zu4W"
      },
      "execution_count": 55,
      "outputs": []
    },
    {
      "cell_type": "markdown",
      "source": [
        "###Construcción de conjuntos de entrenamiento y prueba.\n",
        "\n",
        "Teniendo los dataframes con las características y clases, entonces estos se separan en conjuntos de entrenamiento y prueba. Para ello se utiliza la función *train_test_split* de *sklearn*, ya que esta permite la construcción rápida de estos conjuntos. Además esta función incluye parámetros que permiten controlar la proporción de clases en ambos conjuntos y el tamaño de estos. Se utiliza un 70% de datos para el entrenamiento y un 30% para las pruebas."
      ],
      "metadata": {
        "id": "GvYg3Jex3ogE"
      }
    },
    {
      "cell_type": "code",
      "source": [
        "X_train, X_test, y_train, y_test = train_test_split(df_X, df_y, test_size=.3, stratify=df_y, random_state=3)"
      ],
      "metadata": {
        "id": "K2mZ-giygQZ4"
      },
      "execution_count": 56,
      "outputs": []
    },
    {
      "cell_type": "markdown",
      "source": [
        "##Modelo de clasificación\n",
        "\n",
        "Con los conjuntos de entrenamiento y prueba, se implementa un modelo de machine learning para realizar las clasificaciones. Dado que se esta trabajando con un problema de clasificación binaria y no se cuentan con muchos datos, se utiliza un *Support Vector Machine*. Este modelo de aprendizaje supervisado puede realizar las clasificaciones mediante la construcción de un hiperplano que separa las muestras en diferentes clases. \n",
        "\n",
        "Este sistema se configuró inicialmente para realizar este trabajo con 2 categorías, por lo que tiene buenos rendimientos al trabajar con problemas de clasificación binaria."
      ],
      "metadata": {
        "id": "_mu9p4KGgQ2Y"
      }
    },
    {
      "cell_type": "markdown",
      "source": [
        "Para el uso del *Support Vector Machine* se utiliza el objeto SVC de *sklearn*, y dado que este viene configurado para realizar clasificaciones de varias clases, se ajustan unos hiperparámetros de este objeto para poder controlar el modelo.\n",
        "\n",
        "Se utiliza un kernel lineal ya que estamos trabajando con 2 clases solamente, y se ajusta el peso de las clases como 'balanced', esto es debido al gran desbalance de clases que poseen los datos. "
      ],
      "metadata": {
        "id": "dLJTQ-_S5x32"
      }
    },
    {
      "cell_type": "code",
      "source": [
        "svm_parameters = {}                                 \n",
        "svm = SVC(kernel='linear', class_weight='balanced')\n",
        "\n",
        "model = GridSearchCV(svm, svm_parameters, verbose=1, cv=5)"
      ],
      "metadata": {
        "id": "eC-ZbKKDgYhQ"
      },
      "execution_count": 57,
      "outputs": []
    },
    {
      "cell_type": "markdown",
      "source": [
        "Finalmente se incorpora un pequeño GridSearch, esto con la finalidad de aplicar una validación cruzada al entrenamiento"
      ],
      "metadata": {
        "id": "WToPhoDA66e3"
      }
    },
    {
      "cell_type": "markdown",
      "source": [
        "###Entrenamiento\n",
        "\n",
        "Este se realiza con las características y clases del conjunto de entrenamiento definido anteriormente."
      ],
      "metadata": {
        "id": "lHwOlxW6gSqG"
      }
    },
    {
      "cell_type": "code",
      "source": [
        "model.fit(X_train, y_train)         # Entrenamiento del modelo"
      ],
      "metadata": {
        "colab": {
          "base_uri": "https://localhost:8080/",
          "height": 134
        },
        "id": "RACq32YZgY9x",
        "outputId": "86b91abb-8891-484b-c30e-249ed60a060e"
      },
      "execution_count": 58,
      "outputs": [
        {
          "output_type": "stream",
          "name": "stdout",
          "text": [
            "Fitting 5 folds for each of 1 candidates, totalling 5 fits\n"
          ]
        },
        {
          "output_type": "execute_result",
          "data": {
            "text/plain": [
              "GridSearchCV(cv=5, estimator=SVC(class_weight='balanced', kernel='linear'),\n",
              "             param_grid={}, verbose=1)"
            ],
            "text/html": [
              "<style>#sk-container-id-2 {color: black;background-color: white;}#sk-container-id-2 pre{padding: 0;}#sk-container-id-2 div.sk-toggleable {background-color: white;}#sk-container-id-2 label.sk-toggleable__label {cursor: pointer;display: block;width: 100%;margin-bottom: 0;padding: 0.3em;box-sizing: border-box;text-align: center;}#sk-container-id-2 label.sk-toggleable__label-arrow:before {content: \"▸\";float: left;margin-right: 0.25em;color: #696969;}#sk-container-id-2 label.sk-toggleable__label-arrow:hover:before {color: black;}#sk-container-id-2 div.sk-estimator:hover label.sk-toggleable__label-arrow:before {color: black;}#sk-container-id-2 div.sk-toggleable__content {max-height: 0;max-width: 0;overflow: hidden;text-align: left;background-color: #f0f8ff;}#sk-container-id-2 div.sk-toggleable__content pre {margin: 0.2em;color: black;border-radius: 0.25em;background-color: #f0f8ff;}#sk-container-id-2 input.sk-toggleable__control:checked~div.sk-toggleable__content {max-height: 200px;max-width: 100%;overflow: auto;}#sk-container-id-2 input.sk-toggleable__control:checked~label.sk-toggleable__label-arrow:before {content: \"▾\";}#sk-container-id-2 div.sk-estimator input.sk-toggleable__control:checked~label.sk-toggleable__label {background-color: #d4ebff;}#sk-container-id-2 div.sk-label input.sk-toggleable__control:checked~label.sk-toggleable__label {background-color: #d4ebff;}#sk-container-id-2 input.sk-hidden--visually {border: 0;clip: rect(1px 1px 1px 1px);clip: rect(1px, 1px, 1px, 1px);height: 1px;margin: -1px;overflow: hidden;padding: 0;position: absolute;width: 1px;}#sk-container-id-2 div.sk-estimator {font-family: monospace;background-color: #f0f8ff;border: 1px dotted black;border-radius: 0.25em;box-sizing: border-box;margin-bottom: 0.5em;}#sk-container-id-2 div.sk-estimator:hover {background-color: #d4ebff;}#sk-container-id-2 div.sk-parallel-item::after {content: \"\";width: 100%;border-bottom: 1px solid gray;flex-grow: 1;}#sk-container-id-2 div.sk-label:hover label.sk-toggleable__label {background-color: #d4ebff;}#sk-container-id-2 div.sk-serial::before {content: \"\";position: absolute;border-left: 1px solid gray;box-sizing: border-box;top: 0;bottom: 0;left: 50%;z-index: 0;}#sk-container-id-2 div.sk-serial {display: flex;flex-direction: column;align-items: center;background-color: white;padding-right: 0.2em;padding-left: 0.2em;position: relative;}#sk-container-id-2 div.sk-item {position: relative;z-index: 1;}#sk-container-id-2 div.sk-parallel {display: flex;align-items: stretch;justify-content: center;background-color: white;position: relative;}#sk-container-id-2 div.sk-item::before, #sk-container-id-2 div.sk-parallel-item::before {content: \"\";position: absolute;border-left: 1px solid gray;box-sizing: border-box;top: 0;bottom: 0;left: 50%;z-index: -1;}#sk-container-id-2 div.sk-parallel-item {display: flex;flex-direction: column;z-index: 1;position: relative;background-color: white;}#sk-container-id-2 div.sk-parallel-item:first-child::after {align-self: flex-end;width: 50%;}#sk-container-id-2 div.sk-parallel-item:last-child::after {align-self: flex-start;width: 50%;}#sk-container-id-2 div.sk-parallel-item:only-child::after {width: 0;}#sk-container-id-2 div.sk-dashed-wrapped {border: 1px dashed gray;margin: 0 0.4em 0.5em 0.4em;box-sizing: border-box;padding-bottom: 0.4em;background-color: white;}#sk-container-id-2 div.sk-label label {font-family: monospace;font-weight: bold;display: inline-block;line-height: 1.2em;}#sk-container-id-2 div.sk-label-container {text-align: center;}#sk-container-id-2 div.sk-container {/* jupyter's `normalize.less` sets `[hidden] { display: none; }` but bootstrap.min.css set `[hidden] { display: none !important; }` so we also need the `!important` here to be able to override the default hidden behavior on the sphinx rendered scikit-learn.org. See: https://github.com/scikit-learn/scikit-learn/issues/21755 */display: inline-block !important;position: relative;}#sk-container-id-2 div.sk-text-repr-fallback {display: none;}</style><div id=\"sk-container-id-2\" class=\"sk-top-container\"><div class=\"sk-text-repr-fallback\"><pre>GridSearchCV(cv=5, estimator=SVC(class_weight=&#x27;balanced&#x27;, kernel=&#x27;linear&#x27;),\n",
              "             param_grid={}, verbose=1)</pre><b>In a Jupyter environment, please rerun this cell to show the HTML representation or trust the notebook. <br />On GitHub, the HTML representation is unable to render, please try loading this page with nbviewer.org.</b></div><div class=\"sk-container\" hidden><div class=\"sk-item sk-dashed-wrapped\"><div class=\"sk-label-container\"><div class=\"sk-label sk-toggleable\"><input class=\"sk-toggleable__control sk-hidden--visually\" id=\"sk-estimator-id-4\" type=\"checkbox\" ><label for=\"sk-estimator-id-4\" class=\"sk-toggleable__label sk-toggleable__label-arrow\">GridSearchCV</label><div class=\"sk-toggleable__content\"><pre>GridSearchCV(cv=5, estimator=SVC(class_weight=&#x27;balanced&#x27;, kernel=&#x27;linear&#x27;),\n",
              "             param_grid={}, verbose=1)</pre></div></div></div><div class=\"sk-parallel\"><div class=\"sk-parallel-item\"><div class=\"sk-item\"><div class=\"sk-label-container\"><div class=\"sk-label sk-toggleable\"><input class=\"sk-toggleable__control sk-hidden--visually\" id=\"sk-estimator-id-5\" type=\"checkbox\" ><label for=\"sk-estimator-id-5\" class=\"sk-toggleable__label sk-toggleable__label-arrow\">estimator: SVC</label><div class=\"sk-toggleable__content\"><pre>SVC(class_weight=&#x27;balanced&#x27;, kernel=&#x27;linear&#x27;)</pre></div></div></div><div class=\"sk-serial\"><div class=\"sk-item\"><div class=\"sk-estimator sk-toggleable\"><input class=\"sk-toggleable__control sk-hidden--visually\" id=\"sk-estimator-id-6\" type=\"checkbox\" ><label for=\"sk-estimator-id-6\" class=\"sk-toggleable__label sk-toggleable__label-arrow\">SVC</label><div class=\"sk-toggleable__content\"><pre>SVC(class_weight=&#x27;balanced&#x27;, kernel=&#x27;linear&#x27;)</pre></div></div></div></div></div></div></div></div></div></div>"
            ]
          },
          "metadata": {},
          "execution_count": 58
        }
      ]
    },
    {
      "cell_type": "markdown",
      "source": [
        "##Resultados\n",
        "\n",
        "Con el sistema entrenado, entonces se realizan predicciones las cuales son evaluadas mediante diferentes métricas."
      ],
      "metadata": {
        "id": "BeDr1z99gT3g"
      }
    },
    {
      "cell_type": "code",
      "source": [
        "y_pred = model.predict(X_test)        # Predicciones del conjunto de prueba.\n",
        "\n",
        "class_names = ['0', '1']              # Nombres de las clases.\n",
        "print(classification_report(y_test, y_pred, target_names=class_names, zero_division=0)) # Cálculo de métricas sobre el conjunto de prueba."
      ],
      "metadata": {
        "colab": {
          "base_uri": "https://localhost:8080/"
        },
        "id": "G_D2Jt5fgWc5",
        "outputId": "e864b1a3-2842-498b-bb29-f984762cb151"
      },
      "execution_count": 59,
      "outputs": [
        {
          "output_type": "stream",
          "name": "stdout",
          "text": [
            "              precision    recall  f1-score   support\n",
            "\n",
            "           0       1.00      0.97      0.99       593\n",
            "           1       0.27      0.86      0.41         7\n",
            "\n",
            "    accuracy                           0.97       600\n",
            "   macro avg       0.64      0.92      0.70       600\n",
            "weighted avg       0.99      0.97      0.98       600\n",
            "\n"
          ]
        }
      ]
    },
    {
      "cell_type": "markdown",
      "source": [
        "Si bien se obtuvo un *accuracy* alto, al tener clases muy desbalanceadas, esta métrica no es precisa. Dado esto, para una mejor evaluación de este sistema se utiliza el AUC, siendo este el valor del área bajo la curva ROC. Esta métrica es más fiable ya que se necesita saber que tan probable es que el sistema pueda encontrar las muestras 1 por sobre las muestras 0. "
      ],
      "metadata": {
        "id": "-GJmgx998vhc"
      }
    },
    {
      "cell_type": "markdown",
      "source": [
        "### AUC conjunto de entrenamiento"
      ],
      "metadata": {
        "id": "gFvbnYu_f8bm"
      }
    },
    {
      "cell_type": "code",
      "source": [
        "print(round(roc_auc_score(y_train, model.decision_function(X_train)), 5))"
      ],
      "metadata": {
        "colab": {
          "base_uri": "https://localhost:8080/"
        },
        "id": "44gfXayWbgvn",
        "outputId": "b95af67f-2371-4034-ca54-5a463f2b28dc"
      },
      "execution_count": null,
      "outputs": [
        {
          "output_type": "stream",
          "name": "stdout",
          "text": [
            "0.82489\n"
          ]
        }
      ]
    },
    {
      "cell_type": "markdown",
      "source": [
        "### AUC conjunto de prueba"
      ],
      "metadata": {
        "id": "EfiThZXLf_J7"
      }
    },
    {
      "cell_type": "code",
      "source": [
        "print(round(roc_auc_score(y_test, model.decision_function(X_test)), 5))"
      ],
      "metadata": {
        "colab": {
          "base_uri": "https://localhost:8080/"
        },
        "id": "ZfUZmXCtS9i4",
        "outputId": "8478fe17-312e-4451-a832-876aca77f0e4"
      },
      "execution_count": null,
      "outputs": [
        {
          "output_type": "stream",
          "name": "stdout",
          "text": [
            "0.85208\n"
          ]
        }
      ]
    },
    {
      "cell_type": "markdown",
      "source": [
        "###Visualización de la clasificación\n",
        "\n",
        "Finalmente se realiza una visualización de la clasificación de las muestras, para ello se implementa la función *plot_confusion_matrix*, donde esta muestra la matriz de confusión obtenida tras la clasificación de las muestras del conjunto de prueba.\n",
        "\n",
        "Cabe destacar que a diferencia de la matriz de confusión normal, que representa la cantidad exacta muestras clasificadas, esta realiza una normalización de esta información. Esto es debido al gran desbalance de clases, ya que aunque si el sistema fuese perfecto, solo se destacarían las muestras 0 en la representación."
      ],
      "metadata": {
        "id": "YnY89P8eLnB7"
      }
    },
    {
      "cell_type": "code",
      "source": [
        "def plot_confusion_matrix(cm, classes, normalize=True, title='Confusion matrix', cmap=plt.cm.Blues, fig_size=(7,7)):\n",
        "    if normalize:\n",
        "        cm = cm.astype('float') / cm.sum(axis=1)[:, np.newaxis]\n",
        "        print(\"Normalized confusion matrix\")\n",
        "    else:\n",
        "        print('Confusion matrix, without normalization')\n",
        "\n",
        "    # print(cm)\n",
        "    plt.figure(figsize=fig_size)\n",
        "    plt.imshow(cm, interpolation='nearest', cmap=cmap)\n",
        "    plt.title(title)\n",
        "    # plt.colorbar()\n",
        "    tick_marks = np.arange(len(classes))\n",
        "    plt.xticks(tick_marks, classes, rotation=45)\n",
        "    plt.yticks(tick_marks, classes)\n",
        "\n",
        "    fmt = '.2f' if normalize else 'd'\n",
        "    thresh = cm.max() / 2.\n",
        "    for i, j in itertools.product(range(cm.shape[0]), range(cm.shape[1])):\n",
        "        plt.text(j, i, format(cm[i, j], fmt), horizontalalignment=\"center\", color=\"white\" if cm[i, j] > thresh else \"black\")\n",
        "\n",
        "    plt.tight_layout()\n",
        "    plt.ylabel('True label')\n",
        "    plt.xlabel('Predicted label')"
      ],
      "metadata": {
        "id": "Aw8okDknC6WA"
      },
      "execution_count": 60,
      "outputs": []
    },
    {
      "cell_type": "markdown",
      "source": [
        "Aplicando esta función, entonces se obtiene la matriz de confusión normalizada para cada clase."
      ],
      "metadata": {
        "id": "LoRW86nH-tel"
      }
    },
    {
      "cell_type": "code",
      "source": [
        "cm = confusion_matrix(y_test, y_pred)\n",
        "plot_confusion_matrix(cm, class_names, fig_size=(4,4))"
      ],
      "metadata": {
        "colab": {
          "base_uri": "https://localhost:8080/",
          "height": 443
        },
        "id": "K7S_SQDjLups",
        "outputId": "72904535-7a75-4eeb-98b6-c663ea64c14b"
      },
      "execution_count": 61,
      "outputs": [
        {
          "output_type": "stream",
          "name": "stdout",
          "text": [
            "Normalized confusion matrix\n"
          ]
        },
        {
          "output_type": "display_data",
          "data": {
            "text/plain": [
              "<Figure size 400x400 with 1 Axes>"
            ],
            "image/png": "[encoded data removed]"
          },
          "metadata": {}
        }
      ]
    }
  ]
}